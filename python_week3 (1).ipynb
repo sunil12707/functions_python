{
  "nbformat": 4,
  "nbformat_minor": 0,
  "metadata": {
    "colab": {
      "provenance": []
    },
    "kernelspec": {
      "name": "python3",
      "display_name": "Python 3"
    },
    "language_info": {
      "name": "python"
    }
  },
  "cells": [
    {
      "cell_type": "markdown",
      "source": [
        "**A Python function is like a mini-program that you can create. It's a set of instructions grouped together under a single name. You can use this name to easily use those instructions again and again whenever you need them. It's like having a reusable recipe for doing something in your code.**"
      ],
      "metadata": {
        "id": "das7YBOb4LTo"
      }
    },
    {
      "cell_type": "code",
      "execution_count": null,
      "metadata": {
        "id": "TlldgaJdWpg4",
        "colab": {
          "base_uri": "https://localhost:8080/"
        },
        "outputId": "575a7045-b92b-4b76-d6d4-be760d5040dc"
      },
      "outputs": [
        {
          "output_type": "stream",
          "name": "stdout",
          "text": [
            "hloo\n"
          ]
        }
      ],
      "source": [
        "def test():\n",
        "  print(\"hloo\")\n",
        "test()"
      ]
    },
    {
      "cell_type": "code",
      "source": [
        "type(print(\"hloo\"))"
      ],
      "metadata": {
        "colab": {
          "base_uri": "https://localhost:8080/"
        },
        "id": "rI64S1fm8B-j",
        "outputId": "dd36b9ca-5a6b-41fd-e3fb-befb614bceac"
      },
      "execution_count": null,
      "outputs": [
        {
          "output_type": "stream",
          "name": "stdout",
          "text": [
            "hloo\n"
          ]
        },
        {
          "output_type": "execute_result",
          "data": {
            "text/plain": [
              "NoneType"
            ]
          },
          "metadata": {},
          "execution_count": 5
        }
      ]
    },
    {
      "cell_type": "code",
      "source": [
        "test()+\"sunil\""
      ],
      "metadata": {
        "id": "_zDW32ALWwH-",
        "colab": {
          "base_uri": "https://localhost:8080/",
          "height": 192
        },
        "outputId": "0071c253-435d-479d-9241-9cc2d049bf14"
      },
      "execution_count": null,
      "outputs": [
        {
          "output_type": "stream",
          "name": "stdout",
          "text": [
            "hloo\n"
          ]
        },
        {
          "output_type": "error",
          "ename": "TypeError",
          "evalue": "ignored",
          "traceback": [
            "\u001b[0;31m---------------------------------------------------------------------------\u001b[0m",
            "\u001b[0;31mTypeError\u001b[0m                                 Traceback (most recent call last)",
            "\u001b[0;32m<ipython-input-4-fe0095f11edf>\u001b[0m in \u001b[0;36m<cell line: 1>\u001b[0;34m()\u001b[0m\n\u001b[0;32m----> 1\u001b[0;31m \u001b[0mtest\u001b[0m\u001b[0;34m(\u001b[0m\u001b[0;34m)\u001b[0m\u001b[0;34m+\u001b[0m\u001b[0;34m\"sunil\"\u001b[0m\u001b[0;34m\u001b[0m\u001b[0;34m\u001b[0m\u001b[0m\n\u001b[0m",
            "\u001b[0;31mTypeError\u001b[0m: unsupported operand type(s) for +: 'NoneType' and 'str'"
          ]
        }
      ]
    },
    {
      "cell_type": "code",
      "source": [
        "type(test())"
      ],
      "metadata": {
        "id": "eq7sC7E3WwKV",
        "colab": {
          "base_uri": "https://localhost:8080/"
        },
        "outputId": "d1d1de40-300a-43aa-c2d1-db66e75672d4"
      },
      "execution_count": null,
      "outputs": [
        {
          "output_type": "stream",
          "name": "stdout",
          "text": [
            "hloo\n"
          ]
        },
        {
          "output_type": "execute_result",
          "data": {
            "text/plain": [
              "NoneType"
            ]
          },
          "metadata": {},
          "execution_count": 9
        }
      ]
    },
    {
      "cell_type": "code",
      "source": [
        "def test1():\n",
        "  return \"hloo\"\n",
        "test1()"
      ],
      "metadata": {
        "id": "gQSlJa24WwNB",
        "colab": {
          "base_uri": "https://localhost:8080/",
          "height": 36
        },
        "outputId": "08da576d-cd72-4d3e-a36e-fa2b8a0113b8"
      },
      "execution_count": null,
      "outputs": [
        {
          "output_type": "execute_result",
          "data": {
            "text/plain": [
              "'hloo'"
            ],
            "application/vnd.google.colaboratory.intrinsic+json": {
              "type": "string"
            }
          },
          "metadata": {},
          "execution_count": 6
        }
      ]
    },
    {
      "cell_type": "code",
      "source": [
        "test1()+\"sunil\""
      ],
      "metadata": {
        "id": "GJ9aqc3WWwPX",
        "colab": {
          "base_uri": "https://localhost:8080/",
          "height": 36
        },
        "outputId": "add4b4d3-ce2a-457f-e282-38d266dc74c8"
      },
      "execution_count": null,
      "outputs": [
        {
          "output_type": "execute_result",
          "data": {
            "text/plain": [
              "'hloosunil'"
            ],
            "application/vnd.google.colaboratory.intrinsic+json": {
              "type": "string"
            }
          },
          "metadata": {},
          "execution_count": 7
        }
      ]
    },
    {
      "cell_type": "code",
      "source": [
        "type(test1())"
      ],
      "metadata": {
        "id": "IhsAYeCtWwSC",
        "colab": {
          "base_uri": "https://localhost:8080/"
        },
        "outputId": "8d1f1af0-2be6-46aa-bf84-d0ad32a6c99a"
      },
      "execution_count": null,
      "outputs": [
        {
          "output_type": "execute_result",
          "data": {
            "text/plain": [
              "str"
            ]
          },
          "metadata": {},
          "execution_count": 8
        }
      ]
    },
    {
      "cell_type": "code",
      "source": [
        "def test3():\n",
        "  return \"hloo\",1,3,[4,5,7]\n",
        "test3()"
      ],
      "metadata": {
        "id": "Z4DmywlqWwUM",
        "colab": {
          "base_uri": "https://localhost:8080/"
        },
        "outputId": "237554ce-b04c-4044-d9bd-4f0bd04e5012"
      },
      "execution_count": null,
      "outputs": [
        {
          "output_type": "execute_result",
          "data": {
            "text/plain": [
              "('hloo', 1, 3, [4, 5, 7])"
            ]
          },
          "metadata": {},
          "execution_count": 8
        }
      ]
    },
    {
      "cell_type": "code",
      "source": [
        "a,b,c,d=test3()"
      ],
      "metadata": {
        "id": "kqXQm7XlWwWr"
      },
      "execution_count": null,
      "outputs": []
    },
    {
      "cell_type": "code",
      "source": [
        "a"
      ],
      "metadata": {
        "id": "cK05KA4aWwZa",
        "colab": {
          "base_uri": "https://localhost:8080/",
          "height": 36
        },
        "outputId": "d6ec31a9-f15e-4c84-e94a-0f7f5ba28501"
      },
      "execution_count": null,
      "outputs": [
        {
          "output_type": "execute_result",
          "data": {
            "text/plain": [
              "'hloo'"
            ],
            "application/vnd.google.colaboratory.intrinsic+json": {
              "type": "string"
            }
          },
          "metadata": {},
          "execution_count": 13
        }
      ]
    },
    {
      "cell_type": "code",
      "source": [
        "b"
      ],
      "metadata": {
        "colab": {
          "base_uri": "https://localhost:8080/"
        },
        "id": "O2cuBdq44_LU",
        "outputId": "575e5735-e853-4a60-85f9-c49fb9954751"
      },
      "execution_count": null,
      "outputs": [
        {
          "output_type": "execute_result",
          "data": {
            "text/plain": [
              "1"
            ]
          },
          "metadata": {},
          "execution_count": 14
        }
      ]
    },
    {
      "cell_type": "code",
      "source": [
        "c"
      ],
      "metadata": {
        "colab": {
          "base_uri": "https://localhost:8080/"
        },
        "id": "Wt2kGKbQ4_OZ",
        "outputId": "734f91ca-12de-445c-ba8e-278b142338d6"
      },
      "execution_count": null,
      "outputs": [
        {
          "output_type": "execute_result",
          "data": {
            "text/plain": [
              "3"
            ]
          },
          "metadata": {},
          "execution_count": 15
        }
      ]
    },
    {
      "cell_type": "code",
      "source": [
        "d"
      ],
      "metadata": {
        "colab": {
          "base_uri": "https://localhost:8080/"
        },
        "id": "8V8RzP9v4_RT",
        "outputId": "00209737-96b4-42df-a1f4-5d553f7175bc"
      },
      "execution_count": null,
      "outputs": [
        {
          "output_type": "execute_result",
          "data": {
            "text/plain": [
              "[4, 5, 7]"
            ]
          },
          "metadata": {},
          "execution_count": 16
        }
      ]
    },
    {
      "cell_type": "code",
      "source": [
        "type(d)"
      ],
      "metadata": {
        "colab": {
          "base_uri": "https://localhost:8080/"
        },
        "id": "jMt7Ljt44_UJ",
        "outputId": "0f7fe9d7-7f60-4f1e-ecff-45774c034121"
      },
      "execution_count": null,
      "outputs": [
        {
          "output_type": "execute_result",
          "data": {
            "text/plain": [
              "list"
            ]
          },
          "metadata": {},
          "execution_count": 17
        }
      ]
    },
    {
      "cell_type": "code",
      "source": [],
      "metadata": {
        "id": "i5zFIF6_4_Xw"
      },
      "execution_count": null,
      "outputs": []
    },
    {
      "cell_type": "markdown",
      "source": [
        "**A function is a block of code which only runs when it is called.\n",
        "\n",
        "You can pass data, known as parameters, into a function.\n",
        "\n",
        "A function can return data as a result.**"
      ],
      "metadata": {
        "id": "sXaoNf_yXp4z"
      }
    },
    {
      "cell_type": "markdown",
      "source": [
        "**Creating a Function**"
      ],
      "metadata": {
        "id": "1TGayfk_Xzbd"
      }
    },
    {
      "cell_type": "code",
      "source": [
        "def my_function():\n",
        "  print(\"Hello from a function\")"
      ],
      "metadata": {
        "id": "2lvUWoRcWwcA"
      },
      "execution_count": null,
      "outputs": []
    },
    {
      "cell_type": "markdown",
      "source": [
        "**Calling a Function**"
      ],
      "metadata": {
        "id": "M162U_WpX_In"
      }
    },
    {
      "cell_type": "code",
      "source": [
        "def my_function():\n",
        "  print(\"Hello from a function\")\n",
        "\n",
        "my_function()"
      ],
      "metadata": {
        "colab": {
          "base_uri": "https://localhost:8080/"
        },
        "id": "aT8V4gU9WwfB",
        "outputId": "8936494c-c1b6-4e0b-decb-4419812cbae0"
      },
      "execution_count": null,
      "outputs": [
        {
          "output_type": "stream",
          "name": "stdout",
          "text": [
            "Hello from a function\n"
          ]
        }
      ]
    },
    {
      "cell_type": "markdown",
      "source": [
        "**Arguments\n",
        "Information can be passed into functions as arguments.\n",
        "\n",
        "Arguments are specified after the function name, inside the parentheses. You can add as many arguments as you want, just separate them with a comma.**"
      ],
      "metadata": {
        "id": "mhqHlbupYPAk"
      }
    },
    {
      "cell_type": "code",
      "source": [
        "def my_function(fname):\n",
        "  print(fname + \" Refsnes\")\n",
        "\n",
        "my_function(\"Emil\")\n",
        "my_function(\"Tobias\")\n",
        "my_function(\"Linus\")"
      ],
      "metadata": {
        "colab": {
          "base_uri": "https://localhost:8080/"
        },
        "id": "s1om6QbEWwhc",
        "outputId": "12d4a3db-1b42-48e1-f23b-ac392591e95b"
      },
      "execution_count": null,
      "outputs": [
        {
          "output_type": "stream",
          "name": "stdout",
          "text": [
            "Emil Refsnes\n",
            "Tobias Refsnes\n",
            "Linus Refsnes\n"
          ]
        }
      ]
    },
    {
      "cell_type": "code",
      "source": [
        "def my_function(fname, lname):\n",
        "  print(fname + \" \" + lname)\n",
        "\n",
        "my_function(\"Emil\", \"Refsnes\")"
      ],
      "metadata": {
        "colab": {
          "base_uri": "https://localhost:8080/"
        },
        "id": "7LFbQTB2WwkA",
        "outputId": "7081d3f7-6222-4dd5-a439-009a1dd0a5bc"
      },
      "execution_count": null,
      "outputs": [
        {
          "output_type": "stream",
          "name": "stdout",
          "text": [
            "Emil Refsnes\n"
          ]
        }
      ]
    },
    {
      "cell_type": "code",
      "source": [
        "def my_function(fname, lname):\n",
        "  print(fname + \" \" + lname)\n",
        "\n",
        "my_function(\"Emil\")"
      ],
      "metadata": {
        "colab": {
          "base_uri": "https://localhost:8080/",
          "height": 200
        },
        "id": "50jFX-o6Wwme",
        "outputId": "419b1088-e203-4683-d914-96afafbdc370"
      },
      "execution_count": null,
      "outputs": [
        {
          "output_type": "error",
          "ename": "TypeError",
          "evalue": "ignored",
          "traceback": [
            "\u001b[0;31m---------------------------------------------------------------------------\u001b[0m",
            "\u001b[0;31mTypeError\u001b[0m                                 Traceback (most recent call last)",
            "\u001b[0;32m<ipython-input-5-49655f8043be>\u001b[0m in \u001b[0;36m<cell line: 4>\u001b[0;34m()\u001b[0m\n\u001b[1;32m      2\u001b[0m   \u001b[0mprint\u001b[0m\u001b[0;34m(\u001b[0m\u001b[0mfname\u001b[0m \u001b[0;34m+\u001b[0m \u001b[0;34m\" \"\u001b[0m \u001b[0;34m+\u001b[0m \u001b[0mlname\u001b[0m\u001b[0;34m)\u001b[0m\u001b[0;34m\u001b[0m\u001b[0;34m\u001b[0m\u001b[0m\n\u001b[1;32m      3\u001b[0m \u001b[0;34m\u001b[0m\u001b[0m\n\u001b[0;32m----> 4\u001b[0;31m \u001b[0mmy_function\u001b[0m\u001b[0;34m(\u001b[0m\u001b[0;34m\"Emil\"\u001b[0m\u001b[0;34m)\u001b[0m\u001b[0;34m\u001b[0m\u001b[0;34m\u001b[0m\u001b[0m\n\u001b[0m",
            "\u001b[0;31mTypeError\u001b[0m: my_function() missing 1 required positional argument: 'lname'"
          ]
        }
      ]
    },
    {
      "cell_type": "code",
      "source": [
        "def my_function(*kids):\n",
        "  print(\"The youngest child is \" + kids[2])\n",
        "  print(kids)\n",
        "\n",
        "my_function(\"Emil\", \"Tobias\", \"Linus\")"
      ],
      "metadata": {
        "colab": {
          "base_uri": "https://localhost:8080/"
        },
        "id": "P8r52fGPWwpY",
        "outputId": "ae134f38-e064-4948-d05f-4750a52ba65a"
      },
      "execution_count": null,
      "outputs": [
        {
          "output_type": "stream",
          "name": "stdout",
          "text": [
            "The youngest child is Linus\n",
            "('Emil', 'Tobias', 'Linus')\n"
          ]
        }
      ]
    },
    {
      "cell_type": "code",
      "source": [
        "def my_function(child3, child2, child1):\n",
        "  print(\"The youngest child is \" + child3)\n",
        "\n",
        "my_function(child1 = \"Emil\", child2 = \"Tobias\", child3 = \"Linus\")"
      ],
      "metadata": {
        "colab": {
          "base_uri": "https://localhost:8080/"
        },
        "id": "MFOsnscmWwsA",
        "outputId": "1f017cca-386a-4a6a-934f-8fb7f6c2e331"
      },
      "execution_count": null,
      "outputs": [
        {
          "output_type": "stream",
          "name": "stdout",
          "text": [
            "The youngest child is Linus\n"
          ]
        }
      ]
    },
    {
      "cell_type": "code",
      "source": [
        "def my_function(**kid):\n",
        "  print(\"His last name is \" + kid[\"lname\"])\n",
        "  print(kid)\n",
        "\n",
        "my_function(fname = \"Tobias\", lname = \"Refsnes\")"
      ],
      "metadata": {
        "colab": {
          "base_uri": "https://localhost:8080/"
        },
        "id": "B8MuB7FgWwuA",
        "outputId": "ff15e1e5-3ded-40c9-eba5-ba62731e8faf"
      },
      "execution_count": null,
      "outputs": [
        {
          "output_type": "stream",
          "name": "stdout",
          "text": [
            "His last name is Refsnes\n",
            "{'fname': 'Tobias', 'lname': 'Refsnes'}\n"
          ]
        }
      ]
    },
    {
      "cell_type": "code",
      "source": [
        "def my_function(**kid):\n",
        "  print(\"His last name is \" + kid[\"lname\"])\n",
        "\n",
        "fname=input(\"enter string\")\n",
        "my_function(fnam=fname, lname = \"Refsnes\")"
      ],
      "metadata": {
        "colab": {
          "base_uri": "https://localhost:8080/"
        },
        "id": "96MTQR2tWwwh",
        "outputId": "5a0e4716-0956-4257-a12a-780b0c39aab6"
      },
      "execution_count": null,
      "outputs": [
        {
          "output_type": "stream",
          "name": "stdout",
          "text": [
            "enter stringsunil\n",
            "His last name is Refsnes\n"
          ]
        }
      ]
    },
    {
      "cell_type": "code",
      "source": [
        "def my_function(food):\n",
        "  for x in food:\n",
        "    print(x)\n",
        "\n",
        "fruits = [\"apple\", \"banana\", \"cherry\"]\n",
        "\n",
        "my_function(fruits)"
      ],
      "metadata": {
        "colab": {
          "base_uri": "https://localhost:8080/"
        },
        "id": "5VKU0_sRWwzL",
        "outputId": "b76e56dd-f03f-4a46-85c0-ece586a35992"
      },
      "execution_count": null,
      "outputs": [
        {
          "output_type": "stream",
          "name": "stdout",
          "text": [
            "apple\n",
            "banana\n",
            "cherry\n"
          ]
        }
      ]
    },
    {
      "cell_type": "code",
      "source": [
        "def my_function(x):\n",
        "  return 5 * x\n",
        "\n",
        "print(my_function(3))\n",
        "print(my_function(5))\n",
        "print(my_function(9))"
      ],
      "metadata": {
        "colab": {
          "base_uri": "https://localhost:8080/"
        },
        "id": "iwLC25XsWw1l",
        "outputId": "405f8c66-484f-4a48-c957-44545a49d85e"
      },
      "execution_count": null,
      "outputs": [
        {
          "output_type": "stream",
          "name": "stdout",
          "text": [
            "15\n",
            "25\n",
            "45\n"
          ]
        }
      ]
    },
    {
      "cell_type": "code",
      "source": [
        "def myfunction():\n",
        "  pass"
      ],
      "metadata": {
        "id": "TNoEvVH3Ww5J"
      },
      "execution_count": null,
      "outputs": []
    },
    {
      "cell_type": "markdown",
      "source": [
        "**more example**"
      ],
      "metadata": {
        "id": "9uPR2VkliSx4"
      }
    },
    {
      "cell_type": "code",
      "source": [
        "def comp():\n",
        "  name=\"sunil\"\n",
        "  print(name+\" \"+\"space window\")\n"
      ],
      "metadata": {
        "id": "9nrz0f4nWxr0"
      },
      "execution_count": null,
      "outputs": []
    },
    {
      "cell_type": "code",
      "source": [
        "def comp():\n",
        "  name=\"sunil\"\n",
        "  print(name+\" \"+\"space window\")\n",
        "comp()"
      ],
      "metadata": {
        "colab": {
          "base_uri": "https://localhost:8080/"
        },
        "id": "BzlHyF_UiYwk",
        "outputId": "af587d43-adae-4600-e969-316f0d21b4ab"
      },
      "execution_count": null,
      "outputs": [
        {
          "output_type": "stream",
          "name": "stdout",
          "text": [
            "sunil space window\n"
          ]
        }
      ]
    },
    {
      "cell_type": "code",
      "source": [
        "def comp():\n",
        "  name=\"sunil\"\n",
        "  print(name+\" \"+\"space window\")\n",
        "comp()\n",
        "comp()\n",
        "comp()\n",
        "comp()"
      ],
      "metadata": {
        "colab": {
          "base_uri": "https://localhost:8080/"
        },
        "id": "_1S6rimsiYzL",
        "outputId": "e13db74b-e301-43a1-d68a-383c14457e69"
      },
      "execution_count": null,
      "outputs": [
        {
          "output_type": "stream",
          "name": "stdout",
          "text": [
            "sunil space window\n",
            "sunil space window\n",
            "sunil space window\n",
            "sunil space window\n"
          ]
        }
      ]
    },
    {
      "cell_type": "code",
      "source": [
        "print(\"helo\")\n",
        "add()\n",
        "def sub():\n",
        "  x=5\n",
        "  y=7\n",
        "  print(x-y)\n",
        "print(\"hazzor\")\n",
        "\n",
        "print(\"sunil\")\n",
        "print(\"kaku\")\n",
        "def add():\n",
        "  x=5\n",
        "  y=7\n",
        "  print(x+y)\n",
        "sub()\n",
        "print('jaswal')\n",
        "print('how are you')"
      ],
      "metadata": {
        "colab": {
          "base_uri": "https://localhost:8080/"
        },
        "id": "iiRKdPz5iY10",
        "outputId": "37c3b2a0-bab9-4809-9e90-d28097bb6190"
      },
      "execution_count": null,
      "outputs": [
        {
          "output_type": "stream",
          "name": "stdout",
          "text": [
            "helo\n",
            "12\n",
            "hazzor\n",
            "sunil\n",
            "kaku\n",
            "-2\n",
            "jaswal\n",
            "how are you\n"
          ]
        }
      ]
    },
    {
      "cell_type": "code",
      "source": [
        "a=6"
      ],
      "metadata": {
        "id": "ePEZ5XI9NgiI"
      },
      "execution_count": null,
      "outputs": []
    },
    {
      "cell_type": "code",
      "source": [
        "a"
      ],
      "metadata": {
        "id": "GRq5VXRjNglr"
      },
      "execution_count": null,
      "outputs": []
    },
    {
      "cell_type": "code",
      "source": [
        "def add(a):\n",
        "  x=5\n",
        "  y=7\n",
        "  print(x+y+a)\n",
        "c=6\n",
        "add(c)\n",
        "def sub(b):\n",
        "  x=5\n",
        "  y=7\n",
        "  c=print(x-y+b)\n",
        "  print(type(c))\n",
        "sub(15)"
      ],
      "metadata": {
        "colab": {
          "base_uri": "https://localhost:8080/"
        },
        "id": "O_FSS6hpiY4o",
        "outputId": "d36ecc95-d79b-4c4d-db09-0d52b8bff36a"
      },
      "execution_count": null,
      "outputs": [
        {
          "output_type": "stream",
          "name": "stdout",
          "text": [
            "18\n",
            "13\n",
            "<class 'NoneType'>\n"
          ]
        }
      ]
    },
    {
      "cell_type": "code",
      "source": [
        "def add(c):\n",
        "  y=c+20.12345\n",
        "  print(y)\n",
        "  print(f\"the final output i need is {y:.2f}\")\n",
        "add(20)\n"
      ],
      "metadata": {
        "colab": {
          "base_uri": "https://localhost:8080/"
        },
        "id": "YvNuZNGHiY68",
        "outputId": "1d2484f6-4d5e-4abf-fd18-ec4e327ea1a2"
      },
      "execution_count": null,
      "outputs": [
        {
          "output_type": "stream",
          "name": "stdout",
          "text": [
            "40.12345\n",
            "the final output i need is 40.12\n"
          ]
        }
      ]
    },
    {
      "cell_type": "code",
      "source": [
        "def add():\n",
        "  x=8\n",
        "  y=9\n",
        "  c=x+y\n",
        "  return c\n",
        "add()"
      ],
      "metadata": {
        "colab": {
          "base_uri": "https://localhost:8080/"
        },
        "id": "ohvZIKIRiY9g",
        "outputId": "13cdf85c-ccbb-4513-9394-bb4a6905a95f"
      },
      "execution_count": null,
      "outputs": [
        {
          "output_type": "execute_result",
          "data": {
            "text/plain": [
              "17"
            ]
          },
          "metadata": {},
          "execution_count": 29
        }
      ]
    },
    {
      "cell_type": "code",
      "source": [
        "def add():\n",
        "  x=8\n",
        "  y=9\n",
        "  c=x+y\n",
        "  return c\n",
        "print(add())\n",
        "print(add())\n",
        "print(add())"
      ],
      "metadata": {
        "colab": {
          "base_uri": "https://localhost:8080/"
        },
        "id": "6-Wd_Qx-iY__",
        "outputId": "092fad73-3256-447e-bf4b-be7b3786a90e"
      },
      "execution_count": null,
      "outputs": [
        {
          "output_type": "stream",
          "name": "stdout",
          "text": [
            "17\n",
            "17\n",
            "17\n"
          ]
        }
      ]
    },
    {
      "cell_type": "code",
      "source": [
        "def add():\n",
        "  x=8\n",
        "  y=9\n",
        "  c=x+y\n",
        "  return c\n",
        "sum=add()\n",
        "print(sum)"
      ],
      "metadata": {
        "colab": {
          "base_uri": "https://localhost:8080/"
        },
        "id": "MHotAuVsiZCo",
        "outputId": "976e7610-fbb0-464d-8d13-67022e553975"
      },
      "execution_count": null,
      "outputs": [
        {
          "output_type": "stream",
          "name": "stdout",
          "text": [
            "17\n"
          ]
        }
      ]
    },
    {
      "cell_type": "code",
      "source": [
        "def add():\n",
        "  x=8\n",
        "  y=9\n",
        "\n",
        "  return x+y\n",
        "sum=add()\n",
        "print(sum)"
      ],
      "metadata": {
        "colab": {
          "base_uri": "https://localhost:8080/"
        },
        "id": "3ZVbNH1CiZFJ",
        "outputId": "a7f724f6-3399-4a71-ccd5-90007dc90ff9"
      },
      "execution_count": null,
      "outputs": [
        {
          "output_type": "stream",
          "name": "stdout",
          "text": [
            "17\n"
          ]
        }
      ]
    },
    {
      "cell_type": "code",
      "source": [
        "def add():\n",
        "  x=8\n",
        "  y=9\n",
        "  c=x+y\n",
        "  d=x-y\n",
        "  return c,d\n",
        "sum,sub=add()\n",
        "print(sum)\n",
        "print(sub)"
      ],
      "metadata": {
        "colab": {
          "base_uri": "https://localhost:8080/"
        },
        "id": "61sgPBYBiZH4",
        "outputId": "004d36b3-6837-44c5-834a-d9313f557f4f"
      },
      "execution_count": null,
      "outputs": [
        {
          "output_type": "stream",
          "name": "stdout",
          "text": [
            "17\n",
            "-1\n"
          ]
        }
      ]
    },
    {
      "cell_type": "code",
      "source": [
        "def add():\n",
        "  x=8\n",
        "  y=9\n",
        "  c=x+y\n",
        "  d=x-y\n",
        "  return c,d\n",
        "add()"
      ],
      "metadata": {
        "colab": {
          "base_uri": "https://localhost:8080/"
        },
        "id": "Hyy3YmjQiZKo",
        "outputId": "ecc13c87-304f-4b2a-8e29-3023d87d11ba"
      },
      "execution_count": null,
      "outputs": [
        {
          "output_type": "execute_result",
          "data": {
            "text/plain": [
              "(17, -1)"
            ]
          },
          "metadata": {},
          "execution_count": 35
        }
      ]
    },
    {
      "cell_type": "code",
      "source": [
        "def add():\n",
        "  x=8\n",
        "  y=9\n",
        "  c=x+y\n",
        "  d=x-y\n",
        "  return c,d,40\n",
        "add()"
      ],
      "metadata": {
        "colab": {
          "base_uri": "https://localhost:8080/"
        },
        "id": "ZvwpbhipiZOC",
        "outputId": "78115779-cacc-4e94-dc8e-ecd8488bd67b"
      },
      "execution_count": null,
      "outputs": [
        {
          "output_type": "execute_result",
          "data": {
            "text/plain": [
              "(17, -1, 40)"
            ]
          },
          "metadata": {},
          "execution_count": 19
        }
      ]
    },
    {
      "cell_type": "code",
      "source": [
        "def add():\n",
        "  x=8\n",
        "  y=9\n",
        "  c=x+y\n",
        "  d=x-y\n",
        "  return c,d,40\n",
        "sum,sub,a=add()\n",
        "print(sum)\n",
        "print(sub)\n",
        "print(a)"
      ],
      "metadata": {
        "colab": {
          "base_uri": "https://localhost:8080/"
        },
        "id": "F9SKnsxPWxxO",
        "outputId": "a2a8f967-80fc-46b2-a158-060cdae7920e"
      },
      "execution_count": null,
      "outputs": [
        {
          "output_type": "stream",
          "name": "stdout",
          "text": [
            "17\n",
            "-1\n",
            "40\n"
          ]
        }
      ]
    },
    {
      "cell_type": "markdown",
      "source": [
        "**Nested_function**"
      ],
      "metadata": {
        "id": "uKC3G3_Ru2tH"
      }
    },
    {
      "cell_type": "code",
      "source": [
        "def sunil():\n",
        "  def vishal():\n",
        "    print(\"i am vishal\")\n",
        "  print(\"i am sunil\")\n",
        "  vishal()\n",
        "sunil()"
      ],
      "metadata": {
        "colab": {
          "base_uri": "https://localhost:8080/"
        },
        "id": "lsB1PveeusUC",
        "outputId": "dbb83ab4-3118-4b39-e0bb-0fb9d77c0f18"
      },
      "execution_count": null,
      "outputs": [
        {
          "output_type": "stream",
          "name": "stdout",
          "text": [
            "i am sunil\n",
            "i am vishal\n"
          ]
        }
      ]
    },
    {
      "cell_type": "code",
      "source": [
        "def sunil():\n",
        "  def vishal():\n",
        "    print(\"i am vishal\")\n",
        "  print(\"i am sunil\")\n",
        "  vishal()\n",
        "  print(\" i am web developer\")\n",
        "sunil()\n",
        "print(\" i am data scientist\")"
      ],
      "metadata": {
        "colab": {
          "base_uri": "https://localhost:8080/"
        },
        "id": "KzvQlqCMu7-O",
        "outputId": "32908099-e9a0-4a5f-ae80-8021c327f80a"
      },
      "execution_count": null,
      "outputs": [
        {
          "output_type": "stream",
          "name": "stdout",
          "text": [
            "i am sunil\n",
            "i am vishal\n",
            " i am web developer\n",
            " i am data scientist\n"
          ]
        }
      ]
    },
    {
      "cell_type": "code",
      "source": [
        "def sunil():\n",
        "\n",
        "c=sunil()\n",
        "print(c)"
      ],
      "metadata": {
        "colab": {
          "base_uri": "https://localhost:8080/"
        },
        "id": "sky3pnoGu8An",
        "outputId": "3ed22c64-ecf4-4ec6-e531-ecb30e3a19dc"
      },
      "execution_count": null,
      "outputs": [
        {
          "output_type": "stream",
          "name": "stdout",
          "text": [
            "i am vishal i am sunil\n"
          ]
        }
      ]
    },
    {
      "cell_type": "code",
      "source": [
        "def sunil(b):\n",
        "  def vishal():\n",
        "    return \"i am vishal\"\n",
        "  result=vishal()+\" \"+b+\" \"+\" i am sunil\"\n",
        "  return result\n",
        "\n",
        "c=sunil('this is neha')\n",
        "print(c)"
      ],
      "metadata": {
        "colab": {
          "base_uri": "https://localhost:8080/"
        },
        "id": "mywii-Wru8DI",
        "outputId": "8fb5ccf9-18e9-433a-a8a3-866f0f7d162c"
      },
      "execution_count": null,
      "outputs": [
        {
          "output_type": "stream",
          "name": "stdout",
          "text": [
            "i am vishal this is neha  i am sunil\n"
          ]
        }
      ]
    },
    {
      "cell_type": "markdown",
      "source": [
        "**function as parameter**"
      ],
      "metadata": {
        "id": "gJzScJO_z-mX"
      }
    },
    {
      "cell_type": "code",
      "source": [
        "def shiavli(an):\n",
        "  print(\" i am Hr\"+\" \"+an())\n",
        "def anjali():\n",
        "  return \"i anjali and also HR\"\n",
        "shiavli(anjali)"
      ],
      "metadata": {
        "colab": {
          "base_uri": "https://localhost:8080/"
        },
        "id": "Gd-NirZiu8Fc",
        "outputId": "34326d03-b6d8-4573-a323-f1f0c25ad2e0"
      },
      "execution_count": null,
      "outputs": [
        {
          "output_type": "stream",
          "name": "stdout",
          "text": [
            " i am Hr i anjali and also HR\n"
          ]
        }
      ]
    },
    {
      "cell_type": "code",
      "source": [
        "def shiavli(an):\n",
        "  return \" i am Hr\"+\" \"+an()\n",
        "def anjali():\n",
        "  return \"i anjali and also HR\"\n",
        "c=shiavli(anjali)\n",
        "print(c)"
      ],
      "metadata": {
        "colab": {
          "base_uri": "https://localhost:8080/"
        },
        "id": "nYFWn1Cdu8H_",
        "outputId": "46ddabfe-40e8-4062-ada7-0efea61e7878"
      },
      "execution_count": null,
      "outputs": [
        {
          "output_type": "stream",
          "name": "stdout",
          "text": [
            " i am Hr i anjali and also HR\n"
          ]
        }
      ]
    },
    {
      "cell_type": "markdown",
      "source": [
        "**Function_return_another_function**"
      ],
      "metadata": {
        "id": "MCHOHzHe1tAJ"
      }
    },
    {
      "cell_type": "code",
      "source": [
        "def shiavli():\n",
        "  def anjali():\n",
        "    return \" i am anjali\"\n",
        "  print(\"I am shibali\")\n",
        "  return anjali\n",
        "c=shiavli()\n",
        "print(c())"
      ],
      "metadata": {
        "colab": {
          "base_uri": "https://localhost:8080/"
        },
        "id": "hsJEmQD0u8Kh",
        "outputId": "b9f83aba-9362-4c2f-eded-1fe5e78dced7"
      },
      "execution_count": null,
      "outputs": [
        {
          "output_type": "stream",
          "name": "stdout",
          "text": [
            "I am shibali\n",
            " i am anjali\n"
          ]
        }
      ]
    },
    {
      "cell_type": "markdown",
      "source": [
        "**Postional_argument**"
      ],
      "metadata": {
        "id": "emJphYJF7CmT"
      }
    },
    {
      "cell_type": "code",
      "source": [
        "def pow(x,y):\n",
        "  c=x**y\n",
        "  print(c)\n",
        "pow(2,5)"
      ],
      "metadata": {
        "colab": {
          "base_uri": "https://localhost:8080/"
        },
        "id": "AuChFxQhu8NJ",
        "outputId": "20354f44-2e70-4b57-ce28-794e9d89f8b8"
      },
      "execution_count": null,
      "outputs": [
        {
          "output_type": "stream",
          "name": "stdout",
          "text": [
            "32\n"
          ]
        }
      ]
    },
    {
      "cell_type": "code",
      "source": [
        "def pow(x,y):\n",
        "  c=x**y\n",
        "  print(c)\n",
        "pow(5,2)"
      ],
      "metadata": {
        "colab": {
          "base_uri": "https://localhost:8080/"
        },
        "id": "8EULynw-u8Pu",
        "outputId": "47348c69-6900-4e72-e165-b3caaa8933d6"
      },
      "execution_count": null,
      "outputs": [
        {
          "output_type": "stream",
          "name": "stdout",
          "text": [
            "25\n"
          ]
        }
      ]
    },
    {
      "cell_type": "code",
      "source": [
        "def pow(x,y):\n",
        "  c=x**y\n",
        "  print(c)\n",
        "pow(5,2,4)"
      ],
      "metadata": {
        "colab": {
          "base_uri": "https://localhost:8080/",
          "height": 200
        },
        "id": "RZP62WXhu8SX",
        "outputId": "f681d28b-568e-467a-de86-99602be1c802"
      },
      "execution_count": null,
      "outputs": [
        {
          "output_type": "error",
          "ename": "TypeError",
          "evalue": "ignored",
          "traceback": [
            "\u001b[0;31m---------------------------------------------------------------------------\u001b[0m",
            "\u001b[0;31mTypeError\u001b[0m                                 Traceback (most recent call last)",
            "\u001b[0;32m<ipython-input-40-d76b20d46ac7>\u001b[0m in \u001b[0;36m<cell line: 4>\u001b[0;34m()\u001b[0m\n\u001b[1;32m      2\u001b[0m   \u001b[0mc\u001b[0m\u001b[0;34m=\u001b[0m\u001b[0mx\u001b[0m\u001b[0;34m**\u001b[0m\u001b[0my\u001b[0m\u001b[0;34m\u001b[0m\u001b[0;34m\u001b[0m\u001b[0m\n\u001b[1;32m      3\u001b[0m   \u001b[0mprint\u001b[0m\u001b[0;34m(\u001b[0m\u001b[0mc\u001b[0m\u001b[0;34m)\u001b[0m\u001b[0;34m\u001b[0m\u001b[0;34m\u001b[0m\u001b[0m\n\u001b[0;32m----> 4\u001b[0;31m \u001b[0mpow\u001b[0m\u001b[0;34m(\u001b[0m\u001b[0;36m5\u001b[0m\u001b[0;34m,\u001b[0m\u001b[0;36m2\u001b[0m\u001b[0;34m,\u001b[0m\u001b[0;36m4\u001b[0m\u001b[0;34m)\u001b[0m\u001b[0;34m\u001b[0m\u001b[0;34m\u001b[0m\u001b[0m\n\u001b[0m",
            "\u001b[0;31mTypeError\u001b[0m: pow() takes 2 positional arguments but 3 were given"
          ]
        }
      ]
    },
    {
      "cell_type": "markdown",
      "source": [
        "**keyword_argument**"
      ],
      "metadata": {
        "id": "fplUJnTz8v8N"
      }
    },
    {
      "cell_type": "code",
      "source": [
        "def det(name,age):\n",
        "  print(name,age)\n",
        "det(name=\"sunil\",age=21)"
      ],
      "metadata": {
        "colab": {
          "base_uri": "https://localhost:8080/"
        },
        "id": "aqYIXPSeu8Un",
        "outputId": "5f7d813f-e1d0-4958-fea1-77c61137786f"
      },
      "execution_count": null,
      "outputs": [
        {
          "output_type": "stream",
          "name": "stdout",
          "text": [
            "sunil 21\n"
          ]
        }
      ]
    },
    {
      "cell_type": "code",
      "source": [
        "def det(name,age):\n",
        "  print(name,age)\n",
        "det(age=21,name=\"sunil\")"
      ],
      "metadata": {
        "colab": {
          "base_uri": "https://localhost:8080/"
        },
        "id": "fCmAyVelu8W-",
        "outputId": "fb5dffbf-2f49-4645-e759-344f1b35c5c6"
      },
      "execution_count": null,
      "outputs": [
        {
          "output_type": "stream",
          "name": "stdout",
          "text": [
            "sunil 21\n"
          ]
        }
      ]
    },
    {
      "cell_type": "code",
      "source": [
        "def det(name,age):\n",
        "  print(name,age)\n",
        "det(age=21)"
      ],
      "metadata": {
        "colab": {
          "base_uri": "https://localhost:8080/",
          "height": 200
        },
        "id": "ET5wuIiz9oMo",
        "outputId": "d0ab48af-2107-4566-fce6-8e40a77a2bc3"
      },
      "execution_count": null,
      "outputs": [
        {
          "output_type": "error",
          "ename": "TypeError",
          "evalue": "ignored",
          "traceback": [
            "\u001b[0;31m---------------------------------------------------------------------------\u001b[0m",
            "\u001b[0;31mTypeError\u001b[0m                                 Traceback (most recent call last)",
            "\u001b[0;32m<ipython-input-44-d9ac60ac2abc>\u001b[0m in \u001b[0;36m<cell line: 3>\u001b[0;34m()\u001b[0m\n\u001b[1;32m      1\u001b[0m \u001b[0;32mdef\u001b[0m \u001b[0mdet\u001b[0m\u001b[0;34m(\u001b[0m\u001b[0mname\u001b[0m\u001b[0;34m,\u001b[0m\u001b[0mage\u001b[0m\u001b[0;34m)\u001b[0m\u001b[0;34m:\u001b[0m\u001b[0;34m\u001b[0m\u001b[0;34m\u001b[0m\u001b[0m\n\u001b[1;32m      2\u001b[0m   \u001b[0mprint\u001b[0m\u001b[0;34m(\u001b[0m\u001b[0mname\u001b[0m\u001b[0;34m,\u001b[0m\u001b[0mage\u001b[0m\u001b[0;34m)\u001b[0m\u001b[0;34m\u001b[0m\u001b[0;34m\u001b[0m\u001b[0m\n\u001b[0;32m----> 3\u001b[0;31m \u001b[0mdet\u001b[0m\u001b[0;34m(\u001b[0m\u001b[0mage\u001b[0m\u001b[0;34m=\u001b[0m\u001b[0;36m21\u001b[0m\u001b[0;34m)\u001b[0m\u001b[0;34m\u001b[0m\u001b[0;34m\u001b[0m\u001b[0m\n\u001b[0m",
            "\u001b[0;31mTypeError\u001b[0m: det() missing 1 required positional argument: 'name'"
          ]
        }
      ]
    },
    {
      "cell_type": "code",
      "source": [
        "def det(name,age):\n",
        "  print(name,age)\n",
        "det(age=21,name=\"sunil\",uni=\"SGGSWU\")"
      ],
      "metadata": {
        "colab": {
          "base_uri": "https://localhost:8080/",
          "height": 200
        },
        "id": "NoNIKV9eu8Zy",
        "outputId": "fa5b738c-484d-4a58-caa1-224088377dc7"
      },
      "execution_count": null,
      "outputs": [
        {
          "output_type": "error",
          "ename": "TypeError",
          "evalue": "ignored",
          "traceback": [
            "\u001b[0;31m---------------------------------------------------------------------------\u001b[0m",
            "\u001b[0;31mTypeError\u001b[0m                                 Traceback (most recent call last)",
            "\u001b[0;32m<ipython-input-43-1ab65f4aedad>\u001b[0m in \u001b[0;36m<cell line: 3>\u001b[0;34m()\u001b[0m\n\u001b[1;32m      1\u001b[0m \u001b[0;32mdef\u001b[0m \u001b[0mdet\u001b[0m\u001b[0;34m(\u001b[0m\u001b[0mname\u001b[0m\u001b[0;34m,\u001b[0m\u001b[0mage\u001b[0m\u001b[0;34m)\u001b[0m\u001b[0;34m:\u001b[0m\u001b[0;34m\u001b[0m\u001b[0;34m\u001b[0m\u001b[0m\n\u001b[1;32m      2\u001b[0m   \u001b[0mprint\u001b[0m\u001b[0;34m(\u001b[0m\u001b[0mname\u001b[0m\u001b[0;34m,\u001b[0m\u001b[0mage\u001b[0m\u001b[0;34m)\u001b[0m\u001b[0;34m\u001b[0m\u001b[0;34m\u001b[0m\u001b[0m\n\u001b[0;32m----> 3\u001b[0;31m \u001b[0mdet\u001b[0m\u001b[0;34m(\u001b[0m\u001b[0mage\u001b[0m\u001b[0;34m=\u001b[0m\u001b[0;36m21\u001b[0m\u001b[0;34m,\u001b[0m\u001b[0mname\u001b[0m\u001b[0;34m=\u001b[0m\u001b[0;34m\"sunil\"\u001b[0m\u001b[0;34m,\u001b[0m\u001b[0muni\u001b[0m\u001b[0;34m=\u001b[0m\u001b[0;34m\"SGGSWU\"\u001b[0m\u001b[0;34m)\u001b[0m\u001b[0;34m\u001b[0m\u001b[0;34m\u001b[0m\u001b[0m\n\u001b[0m",
            "\u001b[0;31mTypeError\u001b[0m: det() got an unexpected keyword argument 'uni'"
          ]
        }
      ]
    },
    {
      "cell_type": "markdown",
      "source": [
        "**default_argument**"
      ],
      "metadata": {
        "id": "CzlKg2OD_Dh2"
      }
    },
    {
      "cell_type": "code",
      "source": [
        "def det(name,age=27):\n",
        "  print(name,age)\n",
        "det(name=\"sunil\")"
      ],
      "metadata": {
        "colab": {
          "base_uri": "https://localhost:8080/"
        },
        "id": "wyQxBXGuu8dR",
        "outputId": "6bfb081a-3934-411f-eb16-52b90f500b61"
      },
      "execution_count": null,
      "outputs": [
        {
          "output_type": "stream",
          "name": "stdout",
          "text": [
            "sunil 27\n"
          ]
        }
      ]
    },
    {
      "cell_type": "code",
      "source": [
        "def det(name,age=27):\n",
        "  print(name,age)\n",
        "det(name=\"sunil\",age=25)"
      ],
      "metadata": {
        "colab": {
          "base_uri": "https://localhost:8080/"
        },
        "id": "FSmoqJFn-2cV",
        "outputId": "3dcebfee-a057-4f61-f208-79b25474eb08"
      },
      "execution_count": null,
      "outputs": [
        {
          "output_type": "stream",
          "name": "stdout",
          "text": [
            "sunil 25\n"
          ]
        }
      ]
    },
    {
      "cell_type": "code",
      "source": [
        "def det(name,age=27):\n",
        "  print(name,age)\n",
        "det(name=\"sunil\",age=25,roll_no=101)"
      ],
      "metadata": {
        "colab": {
          "base_uri": "https://localhost:8080/",
          "height": 200
        },
        "id": "tHRYZgkm-2e5",
        "outputId": "8ae5dfd8-82c8-45ba-82a5-8ee5eab84b13"
      },
      "execution_count": null,
      "outputs": [
        {
          "output_type": "error",
          "ename": "TypeError",
          "evalue": "ignored",
          "traceback": [
            "\u001b[0;31m---------------------------------------------------------------------------\u001b[0m",
            "\u001b[0;31mTypeError\u001b[0m                                 Traceback (most recent call last)",
            "\u001b[0;32m<ipython-input-48-638452bb418f>\u001b[0m in \u001b[0;36m<cell line: 3>\u001b[0;34m()\u001b[0m\n\u001b[1;32m      1\u001b[0m \u001b[0;32mdef\u001b[0m \u001b[0mdet\u001b[0m\u001b[0;34m(\u001b[0m\u001b[0mname\u001b[0m\u001b[0;34m,\u001b[0m\u001b[0mage\u001b[0m\u001b[0;34m=\u001b[0m\u001b[0;36m27\u001b[0m\u001b[0;34m)\u001b[0m\u001b[0;34m:\u001b[0m\u001b[0;34m\u001b[0m\u001b[0;34m\u001b[0m\u001b[0m\n\u001b[1;32m      2\u001b[0m   \u001b[0mprint\u001b[0m\u001b[0;34m(\u001b[0m\u001b[0mname\u001b[0m\u001b[0;34m,\u001b[0m\u001b[0mage\u001b[0m\u001b[0;34m)\u001b[0m\u001b[0;34m\u001b[0m\u001b[0;34m\u001b[0m\u001b[0m\n\u001b[0;32m----> 3\u001b[0;31m \u001b[0mdet\u001b[0m\u001b[0;34m(\u001b[0m\u001b[0mname\u001b[0m\u001b[0;34m=\u001b[0m\u001b[0;34m\"sunil\"\u001b[0m\u001b[0;34m,\u001b[0m\u001b[0mage\u001b[0m\u001b[0;34m=\u001b[0m\u001b[0;36m25\u001b[0m\u001b[0;34m,\u001b[0m\u001b[0mroll_no\u001b[0m\u001b[0;34m=\u001b[0m\u001b[0;36m101\u001b[0m\u001b[0;34m)\u001b[0m\u001b[0;34m\u001b[0m\u001b[0;34m\u001b[0m\u001b[0m\n\u001b[0m",
            "\u001b[0;31mTypeError\u001b[0m: det() got an unexpected keyword argument 'roll_no'"
          ]
        }
      ]
    },
    {
      "cell_type": "markdown",
      "source": [
        "**variable_lenght_argument**"
      ],
      "metadata": {
        "id": "_MsF7bUB_jTA"
      }
    },
    {
      "cell_type": "code",
      "source": [
        "#it store all value in form of tuple"
      ],
      "metadata": {
        "id": "DFk22dD7-2iV"
      },
      "execution_count": null,
      "outputs": []
    },
    {
      "cell_type": "code",
      "source": [
        "def sum1(*num):\n",
        "  print(num)\n",
        "  c1=[num[0]+num[1]+num[2]]\n",
        "  print(c1)\n",
        "sum1(2,3,4,5,6,7,8,9)"
      ],
      "metadata": {
        "colab": {
          "base_uri": "https://localhost:8080/"
        },
        "id": "ZNDQhb0W_rR6",
        "outputId": "b8aeb787-9fe6-4cf2-c1b8-b929ee99c8da"
      },
      "execution_count": null,
      "outputs": [
        {
          "output_type": "stream",
          "name": "stdout",
          "text": [
            "(2, 3, 4, 5, 6, 7, 8, 9)\n",
            "[9]\n"
          ]
        }
      ]
    },
    {
      "cell_type": "code",
      "source": [
        "def sum1(x,*num):\n",
        "  print(x)\n",
        "  print(num)\n",
        "  c1=[num[0]+num[1]+num[2]]\n",
        "  print(c1)\n",
        "sum1(2,3,4,5,6,7,8,9)"
      ],
      "metadata": {
        "colab": {
          "base_uri": "https://localhost:8080/"
        },
        "id": "jR5VIk4oC3nJ",
        "outputId": "a1b954b3-8c5a-4362-9d51-20a4fa2726d8"
      },
      "execution_count": null,
      "outputs": [
        {
          "output_type": "stream",
          "name": "stdout",
          "text": [
            "2\n",
            "(3, 4, 5, 6, 7, 8, 9)\n",
            "[12]\n"
          ]
        }
      ]
    },
    {
      "cell_type": "markdown",
      "source": [
        "**keyword_variable_length_argument**"
      ],
      "metadata": {
        "id": "iIXlC_eBCZuI"
      }
    },
    {
      "cell_type": "code",
      "source": [
        "def sun(**num):\n",
        "  print(num)\n",
        "  c=num[\"a\"]+num[\"b\"]+num[\"c\"]\n",
        "  print(c)\n",
        "sun(a=5,b=7,c=8)"
      ],
      "metadata": {
        "colab": {
          "base_uri": "https://localhost:8080/"
        },
        "id": "O0050ouA_rWz",
        "outputId": "62ff3aff-479d-42a8-c86c-0cf11826a1d5"
      },
      "execution_count": null,
      "outputs": [
        {
          "output_type": "stream",
          "name": "stdout",
          "text": [
            "{'a': 5, 'b': 7, 'c': 8}\n",
            "20\n"
          ]
        }
      ]
    },
    {
      "cell_type": "code",
      "source": [
        "def sun(y,**num):\n",
        "  print(y)\n",
        "  print(num)\n",
        "  c=num[\"a\"]+num[\"b\"]+num[\"c\"]\n",
        "  print(c)\n",
        "sun(100,a=5,b=7,c=8)"
      ],
      "metadata": {
        "colab": {
          "base_uri": "https://localhost:8080/"
        },
        "id": "pXhZgWQi_rZa",
        "outputId": "5c1c706d-2460-4ecf-d7ad-bec7e5edfe0a"
      },
      "execution_count": null,
      "outputs": [
        {
          "output_type": "stream",
          "name": "stdout",
          "text": [
            "100\n",
            "{'a': 5, 'b': 7, 'c': 8}\n",
            "20\n"
          ]
        }
      ]
    },
    {
      "cell_type": "markdown",
      "source": [
        "**lambda_function**"
      ],
      "metadata": {
        "id": "mYyilCHQQh2M"
      }
    },
    {
      "cell_type": "code",
      "source": [
        "def show(x):\n",
        "  print(x)\n",
        "show(5)"
      ],
      "metadata": {
        "colab": {
          "base_uri": "https://localhost:8080/"
        },
        "id": "vA0VIXuu_rbt",
        "outputId": "0ad40486-c917-4b5f-a1f8-5afa2e496f63"
      },
      "execution_count": null,
      "outputs": [
        {
          "output_type": "stream",
          "name": "stdout",
          "text": [
            "5\n"
          ]
        }
      ]
    },
    {
      "cell_type": "code",
      "source": [
        "sum2=lambda x:print(x)\n",
        "sum2(5)"
      ],
      "metadata": {
        "colab": {
          "base_uri": "https://localhost:8080/"
        },
        "id": "lxczw5E-_reX",
        "outputId": "3f9888ff-8d28-492e-be4e-25a36fa11d51"
      },
      "execution_count": null,
      "outputs": [
        {
          "output_type": "stream",
          "name": "stdout",
          "text": [
            "5\n"
          ]
        }
      ]
    },
    {
      "cell_type": "code",
      "source": [
        "sum3=lambda x,y:x+y\n",
        "print(sum3(5,2))"
      ],
      "metadata": {
        "colab": {
          "base_uri": "https://localhost:8080/"
        },
        "id": "CXdeLhiu_rg9",
        "outputId": "1807c339-5a0a-4500-a56e-ba386bdef66f"
      },
      "execution_count": null,
      "outputs": [
        {
          "output_type": "stream",
          "name": "stdout",
          "text": [
            "7\n"
          ]
        }
      ]
    },
    {
      "cell_type": "code",
      "source": [
        "sum3=lambda x,y:(x+y,x-y)\n",
        "a,b=sum3(5,2)\n",
        "print(a)\n",
        "print(b)"
      ],
      "metadata": {
        "colab": {
          "base_uri": "https://localhost:8080/"
        },
        "id": "zrjF9dMk_rjM",
        "outputId": "db2a0ab6-971e-444b-af38-130b3bdc904d"
      },
      "execution_count": null,
      "outputs": [
        {
          "output_type": "stream",
          "name": "stdout",
          "text": [
            "7\n",
            "3\n"
          ]
        }
      ]
    },
    {
      "cell_type": "code",
      "source": [
        "c_to_f=lambda c:(9/5)*c+32"
      ],
      "metadata": {
        "id": "Fe9EryZy0jet"
      },
      "execution_count": null,
      "outputs": []
    },
    {
      "cell_type": "code",
      "source": [
        "c_to_f(45)"
      ],
      "metadata": {
        "colab": {
          "base_uri": "https://localhost:8080/"
        },
        "id": "MwCObSBZ0tma",
        "outputId": "9b493e17-3494-4527-fdd0-d2c94c488021"
      },
      "execution_count": null,
      "outputs": [
        {
          "output_type": "execute_result",
          "data": {
            "text/plain": [
              "113.0"
            ]
          },
          "metadata": {},
          "execution_count": 13
        }
      ]
    },
    {
      "cell_type": "code",
      "source": [
        "big=lambda x,y:x if x>y else y\n",
        "big(12,5)"
      ],
      "metadata": {
        "colab": {
          "base_uri": "https://localhost:8080/"
        },
        "id": "b7TjF_Qh0w9g",
        "outputId": "0d293b3b-0533-43ff-ba4e-55eb28676e55"
      },
      "execution_count": null,
      "outputs": [
        {
          "output_type": "execute_result",
          "data": {
            "text/plain": [
              "12"
            ]
          },
          "metadata": {},
          "execution_count": 14
        }
      ]
    },
    {
      "cell_type": "code",
      "source": [
        "\n",
        "count=lambda s:len(s)\n",
        "count(\"sunil\")"
      ],
      "metadata": {
        "colab": {
          "base_uri": "https://localhost:8080/"
        },
        "id": "F4iyBbbc0xAN",
        "outputId": "85ea6ac2-3e53-4be0-87e9-458f3a984a75"
      },
      "execution_count": null,
      "outputs": [
        {
          "output_type": "execute_result",
          "data": {
            "text/plain": [
              "5"
            ]
          },
          "metadata": {},
          "execution_count": 15
        }
      ]
    },
    {
      "cell_type": "code",
      "source": [],
      "metadata": {
        "id": "uPHYOfeY0xDn"
      },
      "execution_count": null,
      "outputs": []
    },
    {
      "cell_type": "markdown",
      "source": [
        "**nested_lambda_function**"
      ],
      "metadata": {
        "id": "r2H2gRZ2UO0B"
      }
    },
    {
      "cell_type": "code",
      "source": [
        "add=lambda x=10:(lambda y:x+y)\n",
        "a=add()\n",
        "print(a(30))"
      ],
      "metadata": {
        "colab": {
          "base_uri": "https://localhost:8080/"
        },
        "id": "b9l8xbB9_rli",
        "outputId": "b7333e6f-51cc-477e-b5a1-95a0bebdc573"
      },
      "execution_count": null,
      "outputs": [
        {
          "output_type": "stream",
          "name": "stdout",
          "text": [
            "40\n"
          ]
        }
      ]
    },
    {
      "cell_type": "markdown",
      "source": [
        "**iife**"
      ],
      "metadata": {
        "id": "T9SxE8evWGGj"
      }
    },
    {
      "cell_type": "code",
      "source": [
        "#Immediately Invoked Function Expression"
      ],
      "metadata": {
        "id": "K8Z2GXeKWwxG"
      },
      "execution_count": null,
      "outputs": []
    },
    {
      "cell_type": "code",
      "source": [
        "(lambda x,y:x+y)(5,2)"
      ],
      "metadata": {
        "colab": {
          "base_uri": "https://localhost:8080/"
        },
        "id": "r25BSkjC_roY",
        "outputId": "8f837c87-c283-415f-8585-5c0633c0f933"
      },
      "execution_count": null,
      "outputs": [
        {
          "output_type": "execute_result",
          "data": {
            "text/plain": [
              "7"
            ]
          },
          "metadata": {},
          "execution_count": 70
        }
      ]
    },
    {
      "cell_type": "code",
      "source": [
        "(lambda x,y:print(x+y))(5,2)"
      ],
      "metadata": {
        "colab": {
          "base_uri": "https://localhost:8080/"
        },
        "id": "8uPzEV8E_rrJ",
        "outputId": "1c88cedb-f26f-4df6-b333-4193dffd6776"
      },
      "execution_count": null,
      "outputs": [
        {
          "output_type": "stream",
          "name": "stdout",
          "text": [
            "7\n"
          ]
        }
      ]
    },
    {
      "cell_type": "markdown",
      "source": [
        "**Local_variable**"
      ],
      "metadata": {
        "id": "VfSdt_Q4X0g8"
      }
    },
    {
      "cell_type": "code",
      "source": [
        "def sub(y):\n",
        "  x=10\n",
        "\n",
        "  c=x-y\n",
        "  print(c)\n",
        "sub(7)\n"
      ],
      "metadata": {
        "id": "x_bQFcmX_rtl",
        "colab": {
          "base_uri": "https://localhost:8080/"
        },
        "outputId": "7a9375fc-d6d1-4787-f526-206de421eb52"
      },
      "execution_count": null,
      "outputs": [
        {
          "output_type": "stream",
          "name": "stdout",
          "text": [
            "3\n"
          ]
        }
      ]
    },
    {
      "cell_type": "code",
      "source": [
        "def sub(y):\n",
        "  x=10\n",
        "\n",
        "  c=x-y\n",
        "  print(c)\n",
        "sub(7)\n",
        "print(x)\n"
      ],
      "metadata": {
        "id": "o59fhDex_rxA",
        "colab": {
          "base_uri": "https://localhost:8080/",
          "height": 217
        },
        "outputId": "f63df1c1-0dd2-4a20-fe03-fe3586e43035"
      },
      "execution_count": null,
      "outputs": [
        {
          "output_type": "stream",
          "name": "stdout",
          "text": [
            "3\n"
          ]
        },
        {
          "output_type": "error",
          "ename": "NameError",
          "evalue": "ignored",
          "traceback": [
            "\u001b[0;31m---------------------------------------------------------------------------\u001b[0m",
            "\u001b[0;31mNameError\u001b[0m                                 Traceback (most recent call last)",
            "\u001b[0;32m<ipython-input-73-fd25f9ba991e>\u001b[0m in \u001b[0;36m<cell line: 7>\u001b[0;34m()\u001b[0m\n\u001b[1;32m      5\u001b[0m   \u001b[0mprint\u001b[0m\u001b[0;34m(\u001b[0m\u001b[0mc\u001b[0m\u001b[0;34m)\u001b[0m\u001b[0;34m\u001b[0m\u001b[0;34m\u001b[0m\u001b[0m\n\u001b[1;32m      6\u001b[0m \u001b[0msub\u001b[0m\u001b[0;34m(\u001b[0m\u001b[0;36m7\u001b[0m\u001b[0;34m)\u001b[0m\u001b[0;34m\u001b[0m\u001b[0;34m\u001b[0m\u001b[0m\n\u001b[0;32m----> 7\u001b[0;31m \u001b[0mprint\u001b[0m\u001b[0;34m(\u001b[0m\u001b[0mx\u001b[0m\u001b[0;34m)\u001b[0m\u001b[0;34m\u001b[0m\u001b[0;34m\u001b[0m\u001b[0m\n\u001b[0m",
            "\u001b[0;31mNameError\u001b[0m: name 'x' is not defined"
          ]
        }
      ]
    },
    {
      "cell_type": "markdown",
      "source": [
        "**gernator_function**"
      ],
      "metadata": {
        "id": "W6kEbKzPvXtn"
      }
    },
    {
      "cell_type": "code",
      "source": [
        "def test_fib(n):\n",
        "  a,b=0,1\n",
        "  for i in range(n):\n",
        "    yield a\n",
        "    a,b=b,a+b"
      ],
      "metadata": {
        "id": "7WyzhptmYi9W"
      },
      "execution_count": null,
      "outputs": []
    },
    {
      "cell_type": "code",
      "source": [
        "for i in test_fib(10):\n",
        "  print(i)"
      ],
      "metadata": {
        "colab": {
          "base_uri": "https://localhost:8080/"
        },
        "id": "AukrOMtrvW8T",
        "outputId": "67617c00-e34b-4674-962b-d2166afc0412"
      },
      "execution_count": null,
      "outputs": [
        {
          "output_type": "stream",
          "name": "stdout",
          "text": [
            "0\n",
            "1\n",
            "1\n",
            "2\n",
            "3\n",
            "5\n",
            "8\n",
            "13\n",
            "21\n",
            "34\n"
          ]
        }
      ]
    },
    {
      "cell_type": "code",
      "source": [
        "def count(n):\n",
        "  count=1\n",
        "  while count<=n:\n",
        "    yield count\n",
        "    count=count+1\n"
      ],
      "metadata": {
        "id": "_oMYOssOytOz"
      },
      "execution_count": null,
      "outputs": []
    },
    {
      "cell_type": "code",
      "source": [
        "s1=count(9)\n",
        "for i in s1:\n",
        "  print(i)"
      ],
      "metadata": {
        "colab": {
          "base_uri": "https://localhost:8080/"
        },
        "id": "skEmWvVYy7Ud",
        "outputId": "f2268c15-9871-45b3-c9df-f850fd0c8b68"
      },
      "execution_count": null,
      "outputs": [
        {
          "output_type": "stream",
          "name": "stdout",
          "text": [
            "1\n",
            "2\n",
            "3\n",
            "4\n",
            "5\n",
            "6\n",
            "7\n",
            "8\n",
            "9\n"
          ]
        }
      ]
    },
    {
      "cell_type": "code",
      "source": [
        "# how for loop internally work:\n",
        "s=\"sunil\"\n",
        "for i in s:\n",
        "  print(i)"
      ],
      "metadata": {
        "colab": {
          "base_uri": "https://localhost:8080/"
        },
        "id": "uGQ9rdfNvW_X",
        "outputId": "43abbac7-9385-4500-fad6-bc0e962f4f1f"
      },
      "execution_count": null,
      "outputs": [
        {
          "output_type": "stream",
          "name": "stdout",
          "text": [
            "s\n",
            "u\n",
            "n\n",
            "i\n",
            "l\n"
          ]
        }
      ]
    },
    {
      "cell_type": "code",
      "source": [
        "next(s)"
      ],
      "metadata": {
        "colab": {
          "base_uri": "https://localhost:8080/",
          "height": 165
        },
        "id": "jcvcDpztvXCC",
        "outputId": "ab72fbc7-2c50-4bae-d24b-36ec8a8aa4a6"
      },
      "execution_count": null,
      "outputs": [
        {
          "output_type": "error",
          "ename": "TypeError",
          "evalue": "ignored",
          "traceback": [
            "\u001b[0;31m---------------------------------------------------------------------------\u001b[0m",
            "\u001b[0;31mTypeError\u001b[0m                                 Traceback (most recent call last)",
            "\u001b[0;32m<ipython-input-4-61c30b5fe1d5>\u001b[0m in \u001b[0;36m<cell line: 1>\u001b[0;34m()\u001b[0m\n\u001b[0;32m----> 1\u001b[0;31m \u001b[0mnext\u001b[0m\u001b[0;34m(\u001b[0m\u001b[0ms\u001b[0m\u001b[0;34m)\u001b[0m\u001b[0;34m\u001b[0m\u001b[0;34m\u001b[0m\u001b[0m\n\u001b[0m",
            "\u001b[0;31mTypeError\u001b[0m: 'str' object is not an iterator"
          ]
        }
      ]
    },
    {
      "cell_type": "code",
      "source": [
        "s1=iter(s)"
      ],
      "metadata": {
        "id": "vEOUD-B5vXFd"
      },
      "execution_count": null,
      "outputs": []
    },
    {
      "cell_type": "code",
      "source": [
        "next(s1)"
      ],
      "metadata": {
        "colab": {
          "base_uri": "https://localhost:8080/",
          "height": 36
        },
        "id": "uTZKPFiYw9u3",
        "outputId": "cce946fd-380a-48ae-8388-9fcda71296fe"
      },
      "execution_count": null,
      "outputs": [
        {
          "output_type": "execute_result",
          "data": {
            "text/plain": [
              "'s'"
            ],
            "application/vnd.google.colaboratory.intrinsic+json": {
              "type": "string"
            }
          },
          "metadata": {},
          "execution_count": 6
        }
      ]
    },
    {
      "cell_type": "code",
      "source": [
        "next(s1)"
      ],
      "metadata": {
        "colab": {
          "base_uri": "https://localhost:8080/",
          "height": 36
        },
        "id": "PNdelotJw_gk",
        "outputId": "bdbd5ece-5d15-4716-f38a-44cf5d3e1f75"
      },
      "execution_count": null,
      "outputs": [
        {
          "output_type": "execute_result",
          "data": {
            "text/plain": [
              "'u'"
            ],
            "application/vnd.google.colaboratory.intrinsic+json": {
              "type": "string"
            }
          },
          "metadata": {},
          "execution_count": 7
        }
      ]
    },
    {
      "cell_type": "code",
      "source": [
        "next(s1)"
      ],
      "metadata": {
        "colab": {
          "base_uri": "https://localhost:8080/",
          "height": 36
        },
        "id": "g6-JNwhixDgk",
        "outputId": "99341f93-95a0-4148-d09c-b4bb18acb2f9"
      },
      "execution_count": null,
      "outputs": [
        {
          "output_type": "execute_result",
          "data": {
            "text/plain": [
              "'n'"
            ],
            "application/vnd.google.colaboratory.intrinsic+json": {
              "type": "string"
            }
          },
          "metadata": {},
          "execution_count": 8
        }
      ]
    },
    {
      "cell_type": "code",
      "source": [
        "next(s1)"
      ],
      "metadata": {
        "colab": {
          "base_uri": "https://localhost:8080/",
          "height": 36
        },
        "id": "-ynBQA-YxE_u",
        "outputId": "5646fcf2-9ca4-4f0b-bf98-630eb3e22757"
      },
      "execution_count": null,
      "outputs": [
        {
          "output_type": "execute_result",
          "data": {
            "text/plain": [
              "'i'"
            ],
            "application/vnd.google.colaboratory.intrinsic+json": {
              "type": "string"
            }
          },
          "metadata": {},
          "execution_count": 9
        }
      ]
    },
    {
      "cell_type": "markdown",
      "source": [
        "**MAP,REDUCE,FILLITER**"
      ],
      "metadata": {
        "id": "2cctDn1m5rXX"
      }
    },
    {
      "cell_type": "code",
      "source": [
        "l=[12,13,14,1,14]"
      ],
      "metadata": {
        "id": "j3lNsXlIxH_d"
      },
      "execution_count": null,
      "outputs": []
    },
    {
      "cell_type": "code",
      "source": [
        "def sq(l):\n",
        "  l1=[]\n",
        "  for i in l:\n",
        "\n",
        "    l1.append(i**2)\n",
        "  return l1\n",
        "sq(l)"
      ],
      "metadata": {
        "colab": {
          "base_uri": "https://localhost:8080/"
        },
        "id": "2Vw70BZ25p0A",
        "outputId": "3c27d928-3433-4018-dd3d-516b50513c64"
      },
      "execution_count": null,
      "outputs": [
        {
          "output_type": "execute_result",
          "data": {
            "text/plain": [
              "[144, 169, 196, 1, 196]"
            ]
          },
          "metadata": {},
          "execution_count": 20
        }
      ]
    },
    {
      "cell_type": "markdown",
      "source": [
        "**map**"
      ],
      "metadata": {
        "id": "yduOyYL361PQ"
      }
    },
    {
      "cell_type": "code",
      "source": [
        "l=[12,13,14,1,14]"
      ],
      "metadata": {
        "id": "tgSvHV2U8BiL"
      },
      "execution_count": null,
      "outputs": []
    },
    {
      "cell_type": "code",
      "source": [
        "def sq1(l1):\n",
        "  return l1**2"
      ],
      "metadata": {
        "id": "UbkusG5T5p2f"
      },
      "execution_count": null,
      "outputs": []
    },
    {
      "cell_type": "code",
      "source": [
        "map(sq1,l)"
      ],
      "metadata": {
        "colab": {
          "base_uri": "https://localhost:8080/"
        },
        "id": "-_nnp6CU77Ap",
        "outputId": "ffedd58f-8227-4b24-d731-80ede2ac2835"
      },
      "execution_count": null,
      "outputs": [
        {
          "output_type": "execute_result",
          "data": {
            "text/plain": [
              "<map at 0x7f74d5d37700>"
            ]
          },
          "metadata": {},
          "execution_count": 23
        }
      ]
    },
    {
      "cell_type": "code",
      "source": [
        "list(map(sq1,l))"
      ],
      "metadata": {
        "colab": {
          "base_uri": "https://localhost:8080/"
        },
        "id": "ux0tytbN77EH",
        "outputId": "974d082f-91df-43bd-a141-64049cdc74da"
      },
      "execution_count": null,
      "outputs": [
        {
          "output_type": "execute_result",
          "data": {
            "text/plain": [
              "[144, 169, 196, 1, 196]"
            ]
          },
          "metadata": {},
          "execution_count": 24
        }
      ]
    },
    {
      "cell_type": "code",
      "source": [
        "#by using lambda function\n",
        "list(map(lambda x:x**2,l))"
      ],
      "metadata": {
        "colab": {
          "base_uri": "https://localhost:8080/"
        },
        "id": "vHkrIDSt5p5D",
        "outputId": "0baa24ae-4481-4a6c-cb60-ed8ddafa9d25"
      },
      "execution_count": null,
      "outputs": [
        {
          "output_type": "execute_result",
          "data": {
            "text/plain": [
              "[144, 169, 196, 1, 196]"
            ]
          },
          "metadata": {},
          "execution_count": 25
        }
      ]
    },
    {
      "cell_type": "code",
      "source": [
        "l1=[1,2,3,4,5,6,]\n",
        "l2=[12,1,3,12,14,]\n",
        "list(map(lambda x,y:x+y,l1,l2))"
      ],
      "metadata": {
        "colab": {
          "base_uri": "https://localhost:8080/"
        },
        "id": "aLwwVJQO5p74",
        "outputId": "7fb17ca6-9c80-46c5-b210-af732cc6a17b"
      },
      "execution_count": null,
      "outputs": [
        {
          "output_type": "execute_result",
          "data": {
            "text/plain": [
              "[13, 3, 6, 16, 19]"
            ]
          },
          "metadata": {},
          "execution_count": 26
        }
      ]
    },
    {
      "cell_type": "code",
      "source": [
        "s=\"sunil\"\n",
        "list(map(lambda x:x.upper(),s))"
      ],
      "metadata": {
        "colab": {
          "base_uri": "https://localhost:8080/"
        },
        "id": "QCZSCabz5p-e",
        "outputId": "0eaaa9bb-f6a3-4d7a-8f82-27fcb25724e8"
      },
      "execution_count": null,
      "outputs": [
        {
          "output_type": "execute_result",
          "data": {
            "text/plain": [
              "['S', 'U', 'N', 'I', 'L']"
            ]
          },
          "metadata": {},
          "execution_count": 27
        }
      ]
    },
    {
      "cell_type": "code",
      "source": [
        "s=\"sunil\"\n",
        "tuple(map(lambda x:x.upper(),s))"
      ],
      "metadata": {
        "colab": {
          "base_uri": "https://localhost:8080/"
        },
        "id": "258Tvmu85qA4",
        "outputId": "bbbbc8b3-afe8-4684-b98a-c28e4d6232d6"
      },
      "execution_count": null,
      "outputs": [
        {
          "output_type": "execute_result",
          "data": {
            "text/plain": [
              "('S', 'U', 'N', 'I', 'L')"
            ]
          },
          "metadata": {},
          "execution_count": 28
        }
      ]
    },
    {
      "cell_type": "code",
      "source": [
        "#reduce\n",
        "from functools import reduce\n",
        "l3=[1,2,3,4,5,6,7,89]\n",
        "reduce(lambda x,y:x+y,l3)"
      ],
      "metadata": {
        "colab": {
          "base_uri": "https://localhost:8080/"
        },
        "id": "6bxSJotW5qDs",
        "outputId": "a9b572fe-c74d-49ba-ea15-0acc5fbae0f9"
      },
      "execution_count": null,
      "outputs": [
        {
          "output_type": "execute_result",
          "data": {
            "text/plain": [
              "117"
            ]
          },
          "metadata": {},
          "execution_count": 29
        }
      ]
    },
    {
      "cell_type": "code",
      "source": [
        "l3=[1,2,3,4,5,6,7,89]\n",
        "reduce(lambda x,y:x*y,l3)"
      ],
      "metadata": {
        "colab": {
          "base_uri": "https://localhost:8080/"
        },
        "id": "llxRpfmd5qGM",
        "outputId": "fcb8d25d-c1d9-4ed9-edf6-6acd6d1f0663"
      },
      "execution_count": null,
      "outputs": [
        {
          "output_type": "execute_result",
          "data": {
            "text/plain": [
              "448560"
            ]
          },
          "metadata": {},
          "execution_count": 30
        }
      ]
    },
    {
      "cell_type": "code",
      "source": [
        "l3=[1,2,3,4,5,6,7,89]\n",
        "reduce(lambda x,y:x if x>y else y,l3)"
      ],
      "metadata": {
        "colab": {
          "base_uri": "https://localhost:8080/"
        },
        "id": "IK8cW1Qb5qJA",
        "outputId": "8ba2f4f1-6214-4530-9c47-2142682f6a10"
      },
      "execution_count": null,
      "outputs": [
        {
          "output_type": "execute_result",
          "data": {
            "text/plain": [
              "89"
            ]
          },
          "metadata": {},
          "execution_count": 31
        }
      ]
    },
    {
      "cell_type": "markdown",
      "source": [
        "**FILTER**"
      ],
      "metadata": {
        "id": "4v05H_m6Bu1T"
      }
    },
    {
      "cell_type": "code",
      "source": [
        "l2"
      ],
      "metadata": {
        "id": "wANlb9785qLL",
        "colab": {
          "base_uri": "https://localhost:8080/"
        },
        "outputId": "deb198db-c377-4ce1-f518-8657f2daf0bc"
      },
      "execution_count": null,
      "outputs": [
        {
          "output_type": "execute_result",
          "data": {
            "text/plain": [
              "[12, 1, 3, 12, 14]"
            ]
          },
          "metadata": {},
          "execution_count": 32
        }
      ]
    },
    {
      "cell_type": "code",
      "source": [
        "list(filter(lambda x:x%2==0,l2))"
      ],
      "metadata": {
        "id": "q-ChtgPR5qOp",
        "colab": {
          "base_uri": "https://localhost:8080/"
        },
        "outputId": "fdfe6ea3-5ec1-4f8e-9271-680800de8670"
      },
      "execution_count": null,
      "outputs": [
        {
          "output_type": "execute_result",
          "data": {
            "text/plain": [
              "[12, 12, 14]"
            ]
          },
          "metadata": {},
          "execution_count": 33
        }
      ]
    },
    {
      "cell_type": "code",
      "source": [
        "list(filter(lambda x:x%2!=0,l2))"
      ],
      "metadata": {
        "colab": {
          "base_uri": "https://localhost:8080/"
        },
        "id": "U77C1lvXE-Gb",
        "outputId": "717becc4-15e9-4378-afd8-36ddf06a8a6d"
      },
      "execution_count": null,
      "outputs": [
        {
          "output_type": "execute_result",
          "data": {
            "text/plain": [
              "[1, 3]"
            ]
          },
          "metadata": {},
          "execution_count": 34
        }
      ]
    },
    {
      "cell_type": "code",
      "source": [
        "list(filter(lambda x:x<0,l2))"
      ],
      "metadata": {
        "colab": {
          "base_uri": "https://localhost:8080/"
        },
        "id": "2DVzSVCDFBtr",
        "outputId": "bf4eafec-d187-482c-a585-df09a82dfb68"
      },
      "execution_count": null,
      "outputs": [
        {
          "output_type": "execute_result",
          "data": {
            "text/plain": [
              "[]"
            ]
          },
          "metadata": {},
          "execution_count": 35
        }
      ]
    },
    {
      "cell_type": "code",
      "source": [
        "list(filter(lambda x:x>0,l2))"
      ],
      "metadata": {
        "colab": {
          "base_uri": "https://localhost:8080/"
        },
        "id": "OJT78jVaFH_8",
        "outputId": "fc27273f-487d-4538-b8f9-bb1e910ba59a"
      },
      "execution_count": null,
      "outputs": [
        {
          "output_type": "execute_result",
          "data": {
            "text/plain": [
              "[12, 1, 3, 12, 14]"
            ]
          },
          "metadata": {},
          "execution_count": 36
        }
      ]
    },
    {
      "cell_type": "code",
      "source": [
        "l4=['sunil',\"kumar\",\"jaswal\",\"pallvi\",\"harkkert\"]"
      ],
      "metadata": {
        "id": "JnpcN3OkFNKI"
      },
      "execution_count": null,
      "outputs": []
    },
    {
      "cell_type": "code",
      "source": [
        "list(filter(lambda x:len(x)>7,l4))"
      ],
      "metadata": {
        "colab": {
          "base_uri": "https://localhost:8080/"
        },
        "id": "hWLohiq2FZeG",
        "outputId": "e342fc15-c3f6-423c-e768-cf33edde12ea"
      },
      "execution_count": null,
      "outputs": [
        {
          "output_type": "execute_result",
          "data": {
            "text/plain": [
              "['harkkert']"
            ]
          },
          "metadata": {},
          "execution_count": 41
        }
      ]
    },
    {
      "cell_type": "code",
      "source": [],
      "metadata": {
        "id": "8xczDxFKFdh-"
      },
      "execution_count": null,
      "outputs": []
    }
  ]
}